{
 "cells": [
  {
   "cell_type": "markdown",
   "id": "f644c026",
   "metadata": {},
   "source": [
    "# Student Performace Analysis"
   ]
  },
  {
   "cell_type": "markdown",
   "id": "ff978079",
   "metadata": {},
   "source": [
    "#### Life cycle of machine Learning\n",
    "- Define a Problem statement \n",
    "- Data Collection \n",
    "- Data Cleaning and Preprocessing\n",
    "- Exploratory Data Analysis (EDA) \n",
    "- Feature Engineering and Selection \n",
    "- Model selection \n",
    "- Model Training \n",
    "- Model Evaluation and Tuning \n",
    "- Model Deployment \n",
    "- Model Monitoring and Maintenance  "
   ]
  },
  {
   "cell_type": "markdown",
   "id": "cd00ebf9",
   "metadata": {},
   "source": [
    "#### 1. Problem Statement \n",
    "This project analysis performance of students based on their CGPA and internship and Placed and preidcted their salary based their persent features. \n",
    "#### 2. Data Collection \n",
    "Data Source: https://www.kaggle.com/datasets/muhamedumarjamil/student-placement-data-with-cgpa-and-salary.\n",
    "\n",
    "This data consist of 5 columns and 1000 rows\n",
    "#### 3. import neccessary Libraray "
   ]
  },
  {
   "cell_type": "code",
   "execution_count": 5,
   "id": "621c47ca",
   "metadata": {},
   "outputs": [],
   "source": [
    "import pandas as pd \n",
    "import numpy as np \n",
    "import matplotlib.pyplot as plt     \n",
    "import seaborn as sns \n",
    "%matplotlib inline \n",
    "import warnings\n",
    "warnings.filterwarnings('ignore')"
   ]
  },
  {
   "cell_type": "markdown",
   "id": "3d9ce577",
   "metadata": {},
   "source": [
    "Read data from csv file using Pandas libaray "
   ]
  },
  {
   "cell_type": "code",
   "execution_count": 6,
   "id": "b934baf2",
   "metadata": {},
   "outputs": [],
   "source": [
    "df = pd.read_csv(\"data\\Placement.csv\")"
   ]
  },
  {
   "cell_type": "markdown",
   "id": "24925ea6",
   "metadata": {},
   "source": [
    "Read top 5 rows "
   ]
  },
  {
   "cell_type": "code",
   "execution_count": 7,
   "id": "9952028f",
   "metadata": {},
   "outputs": [
    {
     "data": {
      "text/html": [
       "<div>\n",
       "<style scoped>\n",
       "    .dataframe tbody tr th:only-of-type {\n",
       "        vertical-align: middle;\n",
       "    }\n",
       "\n",
       "    .dataframe tbody tr th {\n",
       "        vertical-align: top;\n",
       "    }\n",
       "\n",
       "    .dataframe thead th {\n",
       "        text-align: right;\n",
       "    }\n",
       "</style>\n",
       "<table border=\"1\" class=\"dataframe\">\n",
       "  <thead>\n",
       "    <tr style=\"text-align: right;\">\n",
       "      <th></th>\n",
       "      <th>Student_ID</th>\n",
       "      <th>CGPA</th>\n",
       "      <th>Internships</th>\n",
       "      <th>Placed</th>\n",
       "      <th>Salary (INR LPA)</th>\n",
       "    </tr>\n",
       "  </thead>\n",
       "  <tbody>\n",
       "    <tr>\n",
       "      <th>0</th>\n",
       "      <td>1</td>\n",
       "      <td>7.90</td>\n",
       "      <td>3</td>\n",
       "      <td>Yes</td>\n",
       "      <td>17.63</td>\n",
       "    </tr>\n",
       "    <tr>\n",
       "      <th>1</th>\n",
       "      <td>2</td>\n",
       "      <td>7.39</td>\n",
       "      <td>0</td>\n",
       "      <td>Yes</td>\n",
       "      <td>28.37</td>\n",
       "    </tr>\n",
       "    <tr>\n",
       "      <th>2</th>\n",
       "      <td>3</td>\n",
       "      <td>8.02</td>\n",
       "      <td>2</td>\n",
       "      <td>Yes</td>\n",
       "      <td>8.95</td>\n",
       "    </tr>\n",
       "    <tr>\n",
       "      <th>3</th>\n",
       "      <td>4</td>\n",
       "      <td>8.72</td>\n",
       "      <td>4</td>\n",
       "      <td>Yes</td>\n",
       "      <td>22.59</td>\n",
       "    </tr>\n",
       "    <tr>\n",
       "      <th>4</th>\n",
       "      <td>5</td>\n",
       "      <td>7.31</td>\n",
       "      <td>2</td>\n",
       "      <td>Yes</td>\n",
       "      <td>19.67</td>\n",
       "    </tr>\n",
       "  </tbody>\n",
       "</table>\n",
       "</div>"
      ],
      "text/plain": [
       "   Student_ID  CGPA  Internships Placed  Salary (INR LPA)\n",
       "0           1  7.90            3    Yes             17.63\n",
       "1           2  7.39            0    Yes             28.37\n",
       "2           3  8.02            2    Yes              8.95\n",
       "3           4  8.72            4    Yes             22.59\n",
       "4           5  7.31            2    Yes             19.67"
      ]
     },
     "execution_count": 7,
     "metadata": {},
     "output_type": "execute_result"
    }
   ],
   "source": [
    "df.head()"
   ]
  },
  {
   "cell_type": "markdown",
   "id": "5d71dd16",
   "metadata": {},
   "source": [
    "Shape of Dataset"
   ]
  },
  {
   "cell_type": "code",
   "execution_count": 8,
   "id": "bc280fc0",
   "metadata": {},
   "outputs": [
    {
     "data": {
      "text/plain": [
       "(1000, 5)"
      ]
     },
     "execution_count": 8,
     "metadata": {},
     "output_type": "execute_result"
    }
   ],
   "source": [
    "df.shape"
   ]
  },
  {
   "cell_type": "markdown",
   "id": "db0b23da",
   "metadata": {},
   "source": [
    "#### Data information \n",
    "- Student_id:- Unique identity of Each Student \n",
    "- CGPA :- Marks and Grade of student in Float pointing number \n",
    "- internships :- How many internship done by each students?\n",
    "- Placed :- Is there student is Placed or not. \n",
    "- Salary : This is our target variable. "
   ]
  },
  {
   "cell_type": "markdown",
   "id": "a6800d9a",
   "metadata": {},
   "source": []
  }
 ],
 "metadata": {
  "kernelspec": {
   "display_name": "venv",
   "language": "python",
   "name": "python3"
  },
  "language_info": {
   "codemirror_mode": {
    "name": "ipython",
    "version": 3
   },
   "file_extension": ".py",
   "mimetype": "text/x-python",
   "name": "python",
   "nbconvert_exporter": "python",
   "pygments_lexer": "ipython3",
   "version": "3.12.0"
  }
 },
 "nbformat": 4,
 "nbformat_minor": 5
}
