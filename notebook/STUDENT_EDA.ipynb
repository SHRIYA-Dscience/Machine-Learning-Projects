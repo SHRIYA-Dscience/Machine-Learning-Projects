{
 "cells": [
  {
   "cell_type": "markdown",
   "id": "f644c026",
   "metadata": {},
   "source": [
    "# Student Performace Analysis"
   ]
  },
  {
   "cell_type": "markdown",
   "id": "ff978079",
   "metadata": {},
   "source": [
    "#### Life cycle of machine Learning\n",
    "- Define a Problem statement \n",
    "- Data Collection \n",
    "- Data Cleaning and Preprocessing\n",
    "- Exploratory Data Analysis (EDA) \n",
    "- Feature Engineering and Selection \n",
    "- Model selection \n",
    "- Model Training \n",
    "- Model Evaluation and Tuning \n",
    "- Model Deployment \n",
    "- Model Monitoring and Maintenance  "
   ]
  },
  {
   "cell_type": "markdown",
   "id": "cd00ebf9",
   "metadata": {},
   "source": [
    "#### 1. Problem Statement \n",
    "This project analysis performance of students based on their CGPA and internship and Placed and preidcted their salary based their persent features. \n",
    "#### 2. Data Collection \n",
    "Data Source: https://www.kaggle.com/datasets/rkiattisak/student-performance-in-mathematics.\n",
    "\n",
    "This data consist of 5 columns and 1000 rows\n",
    "#### 3. import neccessary Libraray "
   ]
  },
  {
   "cell_type": "code",
   "execution_count": 2,
   "id": "621c47ca",
   "metadata": {},
   "outputs": [],
   "source": [
    "import pandas as pd \n",
    "import numpy as np \n",
    "import matplotlib.pyplot as plt     \n",
    "import seaborn as sns \n",
    "%matplotlib inline \n",
    "import warnings\n",
    "warnings.filterwarnings('ignore')"
   ]
  },
  {
   "cell_type": "markdown",
   "id": "3d9ce577",
   "metadata": {},
   "source": [
    "Read data from csv file using Pandas libaray "
   ]
  },
  {
   "cell_type": "code",
   "execution_count": 3,
   "id": "b934baf2",
   "metadata": {},
   "outputs": [],
   "source": [
    "df = pd.read_csv(\"data\\exams.csv\")"
   ]
  },
  {
   "cell_type": "markdown",
   "id": "24925ea6",
   "metadata": {},
   "source": [
    "Read top 5 rows "
   ]
  },
  {
   "cell_type": "code",
   "execution_count": 4,
   "id": "9952028f",
   "metadata": {},
   "outputs": [
    {
     "data": {
      "text/html": [
       "<div>\n",
       "<style scoped>\n",
       "    .dataframe tbody tr th:only-of-type {\n",
       "        vertical-align: middle;\n",
       "    }\n",
       "\n",
       "    .dataframe tbody tr th {\n",
       "        vertical-align: top;\n",
       "    }\n",
       "\n",
       "    .dataframe thead th {\n",
       "        text-align: right;\n",
       "    }\n",
       "</style>\n",
       "<table border=\"1\" class=\"dataframe\">\n",
       "  <thead>\n",
       "    <tr style=\"text-align: right;\">\n",
       "      <th></th>\n",
       "      <th>gender</th>\n",
       "      <th>race/ethnicity</th>\n",
       "      <th>parental level of education</th>\n",
       "      <th>lunch</th>\n",
       "      <th>test preparation course</th>\n",
       "      <th>math score</th>\n",
       "      <th>reading score</th>\n",
       "      <th>writing score</th>\n",
       "    </tr>\n",
       "  </thead>\n",
       "  <tbody>\n",
       "    <tr>\n",
       "      <th>0</th>\n",
       "      <td>female</td>\n",
       "      <td>group D</td>\n",
       "      <td>some college</td>\n",
       "      <td>standard</td>\n",
       "      <td>completed</td>\n",
       "      <td>59</td>\n",
       "      <td>70</td>\n",
       "      <td>78</td>\n",
       "    </tr>\n",
       "    <tr>\n",
       "      <th>1</th>\n",
       "      <td>male</td>\n",
       "      <td>group D</td>\n",
       "      <td>associate's degree</td>\n",
       "      <td>standard</td>\n",
       "      <td>none</td>\n",
       "      <td>96</td>\n",
       "      <td>93</td>\n",
       "      <td>87</td>\n",
       "    </tr>\n",
       "    <tr>\n",
       "      <th>2</th>\n",
       "      <td>female</td>\n",
       "      <td>group D</td>\n",
       "      <td>some college</td>\n",
       "      <td>free/reduced</td>\n",
       "      <td>none</td>\n",
       "      <td>57</td>\n",
       "      <td>76</td>\n",
       "      <td>77</td>\n",
       "    </tr>\n",
       "    <tr>\n",
       "      <th>3</th>\n",
       "      <td>male</td>\n",
       "      <td>group B</td>\n",
       "      <td>some college</td>\n",
       "      <td>free/reduced</td>\n",
       "      <td>none</td>\n",
       "      <td>70</td>\n",
       "      <td>70</td>\n",
       "      <td>63</td>\n",
       "    </tr>\n",
       "    <tr>\n",
       "      <th>4</th>\n",
       "      <td>female</td>\n",
       "      <td>group D</td>\n",
       "      <td>associate's degree</td>\n",
       "      <td>standard</td>\n",
       "      <td>none</td>\n",
       "      <td>83</td>\n",
       "      <td>85</td>\n",
       "      <td>86</td>\n",
       "    </tr>\n",
       "  </tbody>\n",
       "</table>\n",
       "</div>"
      ],
      "text/plain": [
       "   gender race/ethnicity parental level of education         lunch  \\\n",
       "0  female        group D                some college      standard   \n",
       "1    male        group D          associate's degree      standard   \n",
       "2  female        group D                some college  free/reduced   \n",
       "3    male        group B                some college  free/reduced   \n",
       "4  female        group D          associate's degree      standard   \n",
       "\n",
       "  test preparation course  math score  reading score  writing score  \n",
       "0               completed          59             70             78  \n",
       "1                    none          96             93             87  \n",
       "2                    none          57             76             77  \n",
       "3                    none          70             70             63  \n",
       "4                    none          83             85             86  "
      ]
     },
     "execution_count": 4,
     "metadata": {},
     "output_type": "execute_result"
    }
   ],
   "source": [
    "df.head()"
   ]
  },
  {
   "cell_type": "markdown",
   "id": "5d71dd16",
   "metadata": {},
   "source": [
    "Shape of Dataset"
   ]
  },
  {
   "cell_type": "code",
   "execution_count": 5,
   "id": "bc280fc0",
   "metadata": {},
   "outputs": [
    {
     "data": {
      "text/plain": [
       "(1000, 8)"
      ]
     },
     "execution_count": 5,
     "metadata": {},
     "output_type": "execute_result"
    }
   ],
   "source": [
    "df.shape"
   ]
  },
  {
   "cell_type": "markdown",
   "id": "db0b23da",
   "metadata": {},
   "source": [
    "#### Data information \n",
    "- Student_id:- Unique identity of Each Student \n",
    "- CGPA :- Marks and Grade of student in Float pointing number \n",
    "- internships :- How many internship done by each students?\n",
    "- Placed :- Is there student is Placed or not. \n",
    "- Salary : This is our target variable. "
   ]
  },
  {
   "cell_type": "markdown",
   "id": "a6800d9a",
   "metadata": {},
   "source": []
  }
 ],
 "metadata": {
  "kernelspec": {
   "display_name": "venv",
   "language": "python",
   "name": "python3"
  },
  "language_info": {
   "codemirror_mode": {
    "name": "ipython",
    "version": 3
   },
   "file_extension": ".py",
   "mimetype": "text/x-python",
   "name": "python",
   "nbconvert_exporter": "python",
   "pygments_lexer": "ipython3",
   "version": "3.12.0"
  }
 },
 "nbformat": 4,
 "nbformat_minor": 5
}
