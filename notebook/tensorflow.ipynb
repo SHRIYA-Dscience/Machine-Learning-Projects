{
 "cells": [
  {
   "cell_type": "code",
   "execution_count": 33,
   "id": "02de8d75",
   "metadata": {},
   "outputs": [
    {
     "name": "stdout",
     "output_type": "stream",
     "text": [
      "Your version of TensorFlow: 2.19.0\n"
     ]
    }
   ],
   "source": [
    "import tensorflow as tf\n",
    "print((\"Your version of TensorFlow: {0}\").format(tf.__version__))"
   ]
  },
  {
   "cell_type": "code",
   "execution_count": 34,
   "id": "0491ff6e",
   "metadata": {},
   "outputs": [
    {
     "data": {
      "text/plain": [
       "<tf.Tensor: shape=(2, 2), dtype=int32, numpy=\n",
       "array([[4, 3],\n",
       "       [7, 6]], dtype=int32)>"
      ]
     },
     "execution_count": 34,
     "metadata": {},
     "output_type": "execute_result"
    }
   ],
   "source": [
    "A = tf.constant([[4,3],\n",
    "                [7,6]])\n",
    "A"
   ]
  },
  {
   "cell_type": "code",
   "execution_count": 35,
   "id": "a59ba248",
   "metadata": {},
   "outputs": [
    {
     "name": "stdout",
     "output_type": "stream",
     "text": [
      "<tf.Variable 'Variable:0' shape=(2, 2) dtype=int32, numpy=\n",
      "array([[3, 4],\n",
      "       [5, 6]], dtype=int32)>\n"
     ]
    },
    {
     "data": {
      "text/plain": [
       "<tf.Tensor: shape=(2, 2), dtype=int32, numpy=\n",
       "array([[1, 2],\n",
       "       [3, 4]], dtype=int32)>"
      ]
     },
     "execution_count": 35,
     "metadata": {},
     "output_type": "execute_result"
    }
   ],
   "source": [
    "V = tf.Variable([[3,4],\n",
    "                 [5,6]])\n",
    "B = tf.constant([[1,2],\n",
    "                 [3,4]])\n",
    "print(V)\n",
    "B"
   ]
  },
  {
   "cell_type": "code",
   "execution_count": 36,
   "id": "66b0a1d4",
   "metadata": {},
   "outputs": [
    {
     "data": {
      "text/plain": [
       "<tf.Tensor: shape=(4, 2), dtype=int32, numpy=\n",
       "array([[3, 4],\n",
       "       [5, 6],\n",
       "       [1, 2],\n",
       "       [3, 4]], dtype=int32)>"
      ]
     },
     "execution_count": 36,
     "metadata": {},
     "output_type": "execute_result"
    }
   ],
   "source": [
    "# Concatenate columns \n",
    "AB_Concate = tf.concat(values=[V,B], axis=0)\n",
    "AB_Concate"
   ]
  },
  {
   "cell_type": "code",
   "execution_count": 37,
   "id": "793b55cb",
   "metadata": {},
   "outputs": [
    {
     "data": {
      "text/plain": [
       "<tf.Tensor: shape=(2, 4), dtype=int32, numpy=\n",
       "array([[3, 4, 1, 2],\n",
       "       [5, 6, 3, 4]], dtype=int32)>"
      ]
     },
     "execution_count": 37,
     "metadata": {},
     "output_type": "execute_result"
    }
   ],
   "source": [
    "# Concatenate columns \n",
    "AB_Concate = tf.concat(values=[V,B], axis=1)\n",
    "AB_Concate"
   ]
  },
  {
   "cell_type": "code",
   "execution_count": 38,
   "id": "82dc8068",
   "metadata": {},
   "outputs": [
    {
     "data": {
      "text/plain": [
       "<tf.Tensor: shape=(3, 4), dtype=float32, numpy=\n",
       "array([[0., 0., 0., 0.],\n",
       "       [0., 0., 0., 0.],\n",
       "       [0., 0., 0., 0.]], dtype=float32)>"
      ]
     },
     "execution_count": 38,
     "metadata": {},
     "output_type": "execute_result"
    }
   ],
   "source": [
    "tensor = tf.zeros(shape=[3,4],dtype=tf.float32)\n",
    "tensor"
   ]
  },
  {
   "cell_type": "code",
   "execution_count": 39,
   "id": "1c0950d0",
   "metadata": {},
   "outputs": [
    {
     "data": {
      "text/plain": [
       "<tf.Tensor: shape=(3, 4), dtype=float32, numpy=\n",
       "array([[1., 1., 1., 1.],\n",
       "       [1., 1., 1., 1.],\n",
       "       [1., 1., 1., 1.]], dtype=float32)>"
      ]
     },
     "execution_count": 39,
     "metadata": {},
     "output_type": "execute_result"
    }
   ],
   "source": [
    "tensor = tf.ones(shape=[3,4],dtype=tf.float32)\n",
    "tensor"
   ]
  },
  {
   "cell_type": "code",
   "execution_count": 40,
   "id": "ce62c07d",
   "metadata": {},
   "outputs": [
    {
     "data": {
      "text/plain": [
       "<tf.Tensor: shape=(4, 3), dtype=float32, numpy=\n",
       "array([[1., 1., 1.],\n",
       "       [1., 1., 1.],\n",
       "       [1., 1., 1.],\n",
       "       [1., 1., 1.]], dtype=float32)>"
      ]
     },
     "execution_count": 40,
     "metadata": {},
     "output_type": "execute_result"
    }
   ],
   "source": [
    "reshape_tensor = tf.reshape(tensor= tensor,shape= [4,3])\n",
    "reshape_tensor"
   ]
  },
  {
   "cell_type": "code",
   "execution_count": 41,
   "id": "996e7ae3",
   "metadata": {},
   "outputs": [
    {
     "data": {
      "text/plain": [
       "<tf.Tensor: shape=(3, 4), dtype=float32, numpy=\n",
       "array([[0.833532  , 0.9752897 , 0.7850814 , 0.43989432],\n",
       "       [0.63313735, 0.8454708 , 0.80938685, 0.172387  ],\n",
       "       [0.32072043, 0.5998734 , 0.8061161 , 0.71936   ]], dtype=float32)>"
      ]
     },
     "execution_count": 41,
     "metadata": {},
     "output_type": "execute_result"
    }
   ],
   "source": [
    "tensor_1 = tf.random.uniform(shape=[3,4],dtype=tf.float32)\n",
    "tensor_1"
   ]
  },
  {
   "cell_type": "code",
   "execution_count": 42,
   "id": "97e8f6cb",
   "metadata": {},
   "outputs": [
    {
     "data": {
      "text/plain": [
       "<tf.Tensor: shape=(4, 3), dtype=float32, numpy=\n",
       "array([[0.833532  , 0.9752897 , 0.7850814 ],\n",
       "       [0.43989432, 0.63313735, 0.8454708 ],\n",
       "       [0.80938685, 0.172387  , 0.32072043],\n",
       "       [0.5998734 , 0.8061161 , 0.71936   ]], dtype=float32)>"
      ]
     },
     "execution_count": 42,
     "metadata": {},
     "output_type": "execute_result"
    }
   ],
   "source": [
    "reshape_tensor_1 = tf.reshape(tensor= tensor_1, shape=[4,3])\n",
    "reshape_tensor_1"
   ]
  },
  {
   "cell_type": "code",
   "execution_count": 43,
   "id": "10af4b69",
   "metadata": {},
   "outputs": [
    {
     "name": "stdout",
     "output_type": "stream",
     "text": [
      "tf.Tensor(\n",
      "[[3.4 5.6]\n",
      " [4.5 6.3]\n",
      " [1.2 4.7]\n",
      " [8.6 5.8]], shape=(4, 2), dtype=float32)\n",
      "tf.Tensor(\n",
      "[[3 5]\n",
      " [4 6]\n",
      " [1 4]\n",
      " [8 5]], shape=(4, 2), dtype=int16)\n"
     ]
    }
   ],
   "source": [
    "# typecast a tensor \n",
    "tensor_2 = tf.constant([[3.4,5.6],\n",
    "                        [4.5,6.3],\n",
    "                        [1.2,4.7],\n",
    "                        [8.6,5.8]],\n",
    "                        dtype=tf.float32)\n",
    "tensor_2_as_int = tf.cast(tensor_2, tf.int16)\n",
    "print(tensor_2)\n",
    "print(tensor_2_as_int)"
   ]
  },
  {
   "cell_type": "code",
   "execution_count": 44,
   "id": "6770e3eb",
   "metadata": {},
   "outputs": [
    {
     "data": {
      "text/plain": [
       "<tf.Tensor: shape=(2, 4), dtype=int16, numpy=\n",
       "array([[3, 4, 1, 8],\n",
       "       [5, 6, 4, 5]], dtype=int16)>"
      ]
     },
     "execution_count": 44,
     "metadata": {},
     "output_type": "execute_result"
    }
   ],
   "source": [
    "a = tf.transpose(tensor_2_as_int)\n",
    "a"
   ]
  },
  {
   "cell_type": "code",
   "execution_count": 45,
   "id": "3e2fb7a4",
   "metadata": {},
   "outputs": [
    {
     "data": {
      "text/plain": [
       "<tf.Tensor: shape=(2, 1), dtype=int32, numpy=\n",
       "array([[17],\n",
       "       [39]], dtype=int32)>"
      ]
     },
     "execution_count": 45,
     "metadata": {},
     "output_type": "execute_result"
    }
   ],
   "source": [
    "# Mathsmetical operation \n",
    "A = tf.constant([[1,2],\n",
    "                 [3,4]])\n",
    "B = tf.constant([[5],\n",
    "                 [6]])\n",
    "AV = tf.matmul(A, B)\n",
    "AV\n"
   ]
  },
  {
   "cell_type": "code",
   "execution_count": 46,
   "id": "cb425104",
   "metadata": {},
   "outputs": [
    {
     "data": {
      "text/plain": [
       "<tf.Tensor: shape=(2, 2), dtype=int32, numpy=\n",
       "array([[ 5, 10],\n",
       "       [18, 24]], dtype=int32)>"
      ]
     },
     "execution_count": 46,
     "metadata": {},
     "output_type": "execute_result"
    }
   ],
   "source": [
    "# Elements-wise multiplity\n",
    "A = tf.multiply(A, B)\n",
    "A"
   ]
  },
  {
   "cell_type": "code",
   "execution_count": 47,
   "id": "c91a49bf",
   "metadata": {},
   "outputs": [
    {
     "name": "stdout",
     "output_type": "stream",
     "text": [
      "rows 3 columns 2\n"
     ]
    },
    {
     "data": {
      "text/plain": [
       "<tf.Tensor: shape=(3, 2), dtype=int32, numpy=\n",
       "array([[1, 0],\n",
       "       [0, 1],\n",
       "       [0, 0]], dtype=int32)>"
      ]
     },
     "execution_count": 47,
     "metadata": {},
     "output_type": "execute_result"
    }
   ],
   "source": [
    "# creating an indentify matrix\n",
    "A = tf.constant([[3,9],\n",
    "                 [2,4],\n",
    "                 [5,19]])\n",
    "rows, columns = A.shape\n",
    "print('rows',rows, 'columns',columns)\n",
    "\n",
    "# Making identity matrix \n",
    "A_identity = tf.eye(num_rows=rows,\n",
    "                    num_columns=columns,\n",
    "                    dtype= tf.int32)\n",
    "A_identity"
   ]
  },
  {
   "cell_type": "code",
   "execution_count": null,
   "id": "8bb50b9a",
   "metadata": {},
   "outputs": [],
   "source": []
  }
 ],
 "metadata": {
  "kernelspec": {
   "display_name": "venv",
   "language": "python",
   "name": "python3"
  },
  "language_info": {
   "codemirror_mode": {
    "name": "ipython",
    "version": 3
   },
   "file_extension": ".py",
   "mimetype": "text/x-python",
   "name": "python",
   "nbconvert_exporter": "python",
   "pygments_lexer": "ipython3",
   "version": "3.12.0"
  }
 },
 "nbformat": 4,
 "nbformat_minor": 5
}
